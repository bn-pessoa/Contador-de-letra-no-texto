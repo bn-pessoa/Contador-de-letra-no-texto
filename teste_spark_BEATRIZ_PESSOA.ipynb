{
  "cells": [
    {
      "cell_type": "markdown",
      "metadata": {
        "id": "view-in-github",
        "colab_type": "text"
      },
      "source": [
        "<a href=\"https://colab.research.google.com/github/bn-pessoa/Contador-de-letra-no-texto/blob/main/teste_spark_BEATRIZ_PESSOA.ipynb\" target=\"_parent\"><img src=\"https://colab.research.google.com/assets/colab-badge.svg\" alt=\"Open In Colab\"/></a>"
      ]
    },
    {
      "cell_type": "markdown",
      "source": [
        "---\n",
        "\n",
        "# `Instruções para o teste`"
      ],
      "metadata": {
        "id": "INZt9MMY4Iv7"
      },
      "id": "INZt9MMY4Iv7"
    },
    {
      "cell_type": "markdown",
      "source": [
        "## ⚠️ Importante\n",
        "\n",
        "Antes de iniciar, não esqueça de renomear esse documento substituindo o texto **SEU_NOME** no título com o nome de quem for resolver.\n",
        "\n",
        "Deixe as respostas bem sinalizadas e comentadas e mencionando a qual questão se refere.\n",
        "\n",
        "Fique à vontade para utilizar quantas células forem necessárias.\n",
        "\n",
        "<br><br>\n",
        "\n",
        "## 📖 Recursos Permitidos\n",
        "✅ Documentação, sites, fóruns  \n",
        "❌ Inteligências Artificiais (ChatGPT, Claude, etc.)\n",
        "\n",
        "<br><br>\n",
        "\n",
        "## 📤 Instruções para Entrega\n",
        "\n",
        "**Ao finalizar o teste** volte a este passo e execute a célula abaixo.\n",
        "\n",
        "**Envie o arquivo gerado e o arquivo do seu notebook para o e-mail:** `mateus.camacho@tdwbi.com.br`\n",
        "\n",
        "- Arquivo gerado: `historico_exec.txt` <br>\n",
        "- Seu notebook: `teste_spark_SEU_NOME.ipynb`\n"
      ],
      "metadata": {
        "id": "T3Ekv2xFmbfu"
      },
      "id": "T3Ekv2xFmbfu"
    },
    {
      "cell_type": "code",
      "source": [
        "### IMPORTANDO ARQUIVOS QUE SERÃO USADOS NO TESTE ###\n",
        "\n",
        "!wget https://raw.githubusercontent.com/KaelDucatti/pyspark_test_data/main/products.json -O products.json\n",
        "!wget https://raw.githubusercontent.com/KaelDucatti/pyspark_test_data/main/sales.csv -O sales.csv\n",
        "!wget https://raw.githubusercontent.com/KaelDucatti/pyspark_test_data/main/users.csv -O users.csv\n",
        "\n",
        "path_products = \"/content/products.json\"\n",
        "path_sales = \"/content/sales.csv\"\n",
        "path_users = \"/content/users.csv\""
      ],
      "metadata": {
        "id": "kOTOhjxs34WB",
        "collapsed": true,
        "colab": {
          "base_uri": "https://localhost:8080/"
        },
        "outputId": "ca6c64c6-7e66-4bef-d311-659bfab9c5d6"
      },
      "id": "kOTOhjxs34WB",
      "execution_count": 62,
      "outputs": [
        {
          "output_type": "stream",
          "name": "stdout",
          "text": [
            "--2025-08-11 19:54:09--  https://raw.githubusercontent.com/KaelDucatti/pyspark_test_data/main/products.json\n",
            "Resolving raw.githubusercontent.com (raw.githubusercontent.com)... 185.199.108.133, 185.199.109.133, 185.199.110.133, ...\n",
            "Connecting to raw.githubusercontent.com (raw.githubusercontent.com)|185.199.108.133|:443... connected.\n",
            "HTTP request sent, awaiting response... 200 OK\n",
            "Length: 3186 (3.1K) [text/plain]\n",
            "Saving to: ‘products.json’\n",
            "\n",
            "\rproducts.json         0%[                    ]       0  --.-KB/s               \rproducts.json       100%[===================>]   3.11K  --.-KB/s    in 0s      \n",
            "\n",
            "2025-08-11 19:54:09 (38.8 MB/s) - ‘products.json’ saved [3186/3186]\n",
            "\n",
            "--2025-08-11 19:54:09--  https://raw.githubusercontent.com/KaelDucatti/pyspark_test_data/main/sales.csv\n",
            "Resolving raw.githubusercontent.com (raw.githubusercontent.com)... 185.199.111.133, 185.199.108.133, 185.199.110.133, ...\n",
            "Connecting to raw.githubusercontent.com (raw.githubusercontent.com)|185.199.111.133|:443... connected.\n",
            "HTTP request sent, awaiting response... 200 OK\n",
            "Length: 24411 (24K) [text/plain]\n",
            "Saving to: ‘sales.csv’\n",
            "\n",
            "sales.csv           100%[===================>]  23.84K  --.-KB/s    in 0.003s  \n",
            "\n",
            "2025-08-11 19:54:09 (9.02 MB/s) - ‘sales.csv’ saved [24411/24411]\n",
            "\n",
            "--2025-08-11 19:54:09--  https://raw.githubusercontent.com/KaelDucatti/pyspark_test_data/main/users.csv\n",
            "Resolving raw.githubusercontent.com (raw.githubusercontent.com)... 185.199.108.133, 185.199.109.133, 185.199.110.133, ...\n",
            "Connecting to raw.githubusercontent.com (raw.githubusercontent.com)|185.199.108.133|:443... connected.\n",
            "HTTP request sent, awaiting response... 200 OK\n",
            "Length: 20278 (20K) [text/plain]\n",
            "Saving to: ‘users.csv’\n",
            "\n",
            "users.csv           100%[===================>]  19.80K  --.-KB/s    in 0.002s  \n",
            "\n",
            "2025-08-11 19:54:09 (11.7 MB/s) - ‘users.csv’ saved [20278/20278]\n",
            "\n"
          ]
        }
      ]
    },
    {
      "cell_type": "markdown",
      "source": [
        "---\n",
        "\n",
        "# `Questões e Contexto`"
      ],
      "metadata": {
        "id": "XuR4t6Hi4_xi"
      },
      "id": "XuR4t6Hi4_xi"
    },
    {
      "cell_type": "markdown",
      "id": "7bb3e3f3",
      "metadata": {
        "id": "7bb3e3f3"
      },
      "source": [
        "## 📁 Contexto\n",
        "\n",
        "No diretório raiz desse documento, existem os três arquivos que serão necessários para a conclusão dessa atividade. Em caso de dúvidas, a pasta de se encontra no desktop dessa máquina na pasta 'pyspark_test'.\n",
        "\n",
        "Os dados são fictícios e compreendem uma simulação de um cenário de uma loja de departamentos, para isso temos os arquivos com as seguintes informações:\n",
        "- **users.csv** → Dados dos clientes/usuários da loja\n",
        "- **sales.csv** → Dados das vendas\n",
        "- **products.json** → Dados de cadastro dos produtos\n",
        "\n",
        "<br><br>\n",
        "\n",
        "## 📝 Questões\n",
        "\n",
        "A atividade consiste nas questões a seguir:\n",
        "\n",
        "**1.** Declare um novo dataframe que mostre o nome do produto e o valor final da compra.\n",
        "\n",
        "**2.** Declare um novo dataframe com o valor total gasto por cliente.\n",
        "\n",
        "**3.** Declare um novo dataframe com os cinco melhores clientes contendo o nome, e-mail e o valor gasto em todo o período.\n",
        "\n",
        "**4.** Declare um novo dataframe com os cinco produtos mais vendidos nos últimos seis meses (considerando período de dados disponível nos arquivos) contendo o nome do produto e a quantidade de produtos vendidos nesse período.\n",
        "\n",
        "**5.** Calcular a média de faturamento por cliente e o desvio padrão.\n",
        "\n",
        "**6.** Classificar os clientes em três categorias: silver, gold, platinum\n",
        "- **platinum:** clientes que gastaram mais que a média de faturamento por cliente;\n",
        "- **gold:** clientes que gastaram do menor desvio padrão até a média de faturamento por cliente;\n",
        "- **silver:** clientes que gastaram no máximo a média menos o desvio padrão do faturamento por cliente;\n",
        "\n",
        "**7.** Salvar um arquivo parquet com os três produtos mais consumidos de cada categoria do cliente."
      ]
    },
    {
      "cell_type": "markdown",
      "source": [
        "---\n",
        "\n",
        "# `Configuração do ambiente`"
      ],
      "metadata": {
        "id": "J4CEqXVU41Ul"
      },
      "id": "J4CEqXVU41Ul"
    },
    {
      "cell_type": "markdown",
      "source": [
        "**Execute as células abaixo antes de iniciar o teste.**\n",
        "\n",
        "Os arquivos serão criados automaticamente e estarão disponíveis no ícone de pasta do menu lateral (conforme imagem abaixo) ou na pasta **content**.\n",
        "\n",
        "![image.png](data:image/png;base64,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)\n"
      ],
      "metadata": {
        "id": "vjwZB1Gk4Ccv"
      },
      "id": "vjwZB1Gk4Ccv"
    },
    {
      "cell_type": "code",
      "execution_count": 25,
      "id": "205a2a24",
      "metadata": {
        "id": "205a2a24"
      },
      "outputs": [],
      "source": [
        "### IMPORTANDO BIBLIOTECAS NECESSÁRIAS ###\n",
        "\n",
        "from pyspark.sql import SparkSession\n",
        "from pyspark.sql import *"
      ]
    },
    {
      "cell_type": "code",
      "execution_count": 26,
      "id": "b7e5a13f",
      "metadata": {
        "id": "b7e5a13f"
      },
      "outputs": [],
      "source": [
        "### INSTANCIANDO SPARK ###\n",
        "\n",
        "spark = SparkSession.builder.appName('test-spark').getOrCreate()"
      ]
    },
    {
      "cell_type": "markdown",
      "source": [
        "---\n",
        "\n",
        "# Seu teste começa aqui 🍀 Boa sorte!"
      ],
      "metadata": {
        "id": "Me9n8tjClTHW"
      },
      "id": "Me9n8tjClTHW"
    },
    {
      "cell_type": "code",
      "source": [
        "products_df = spark.read.json(\"/content/products.json\").show(10)\n",
        "sales_df = spark.read.csv(path_sales, header=True, inferSchema=True).show(10)\n",
        "users_df = spark.read.csv(path_users, header=True, inferSchema=True).show(10)"
      ],
      "metadata": {
        "id": "CGGU49lbW8CV",
        "outputId": "e56c50c1-7821-44aa-c01e-6677f3ff2f6e",
        "colab": {
          "base_uri": "https://localhost:8080/"
        }
      },
      "id": "CGGU49lbW8CV",
      "execution_count": 27,
      "outputs": [
        {
          "output_type": "stream",
          "name": "stdout",
          "text": [
            "+-------+--------------------+----------+\n",
            "|  price|             product|product_id|\n",
            "+-------+--------------------+----------+\n",
            "| $86.50|         Camisa Polo|         1|\n",
            "|$112.11|         Calça Jeans|         2|\n",
            "|$100.19|    Vestido de Verão|         3|\n",
            "| $82.38|     Tênis Esportivo|         4|\n",
            "|$101.50|     Camiseta Básica|         5|\n",
            "|$108.01|           Saia Midi|         6|\n",
            "|$100.37|Blusa de Manga Longa|         7|\n",
            "|$122.81|Sapatos de Salto ...|         8|\n",
            "|$116.02|       Jaqueta Jeans|         9|\n",
            "|$117.15|      Bolsa de Couro|        10|\n",
            "+-------+--------------------+----------+\n",
            "only showing top 10 rows\n",
            "\n",
            "+-------+----------+----------+---------+----+\n",
            "|sale_id|      date|product_id|client_id|qtde|\n",
            "+-------+----------+----------+---------+----+\n",
            "|      1|13/06/2022|        30|      223|   2|\n",
            "|      2|16/11/2022|        23|      175|   2|\n",
            "|      3|18/08/2022|        29|      184|   2|\n",
            "|      4|13/03/2022|        31|      194|   1|\n",
            "|      5|14/12/2022|        13|      221|   2|\n",
            "|      6|18/01/2022|        26|      206|   1|\n",
            "|      7|12/10/2022|        28|      123|   2|\n",
            "|      8|15/06/2022|        39|      269|   2|\n",
            "|      9|15/02/2022|        36|      179|   3|\n",
            "|     10|06/12/2022|        41|      148|   1|\n",
            "+-------+----------+----------+---------+----+\n",
            "only showing top 10 rows\n",
            "\n",
            "+---------+-------------------+--------------------+------+--------------+----------------+\n",
            "|client_id|               name|               email|gender|         login|        password|\n",
            "+---------+-------------------+--------------------+------+--------------+----------------+\n",
            "|        1|   Mitch Kilpatrick|mkilpatrick0@cdc.gov|     M|  mkilpatrick0|      uE9+F7h5*P|\n",
            "|        2|          Kit Kyncl|kkyncl1@miitbeian...|     M|       kkyncl1|        nZ1>gR%L|\n",
            "|        3|    Marylou Presman|mpresman2@twitter...|     F|     mpresman2|        aP2#@KQI|\n",
            "|        4|   Gilberta Andrieu|gandrieu3@4shared...|     M|     gandrieu3|oN2/1oW(IPSNWwoW|\n",
            "|        5|Tobiah Boughtflower|tboughtflower4@pa...|     M|tboughtflower4| hD7{HV(oHo'C&P.|\n",
            "|        6|      Prent Clifton|  pclifton5@cnbc.com|     F|     pclifton5|      fF4$?1cViZ|\n",
            "|        7|   Katinka Mosedill|  kmosedill6@loc.gov|     F|    kmosedill6|  yC9=dRM)1_ZuKp|\n",
            "|        8|       Aime Cheyney|  acheyney7@gmpg.org|     F|     acheyney7|  dQ1&PzrF(1trTR|\n",
            "|        9|   Errol Liverseege|eliverseege8@ning...|     F|  eliverseege8| sM8/Cn|M\\*)25j.|\n",
            "|       10|          Zoe Exrol|zexrol9@multiply.com|     M|       zexrol9|      eK5~zmTHNd|\n",
            "+---------+-------------------+--------------------+------+--------------+----------------+\n",
            "only showing top 10 rows\n",
            "\n"
          ]
        }
      ]
    },
    {
      "cell_type": "markdown",
      "source": [
        "\n",
        "\n",
        "---\n",
        "\n",
        "\n",
        "Q1. Declare um novo dataframe que mostre o nome do produto e o valor final da\n",
        "compra.\n",
        "\n",
        "\n",
        "---\n",
        "\n"
      ],
      "metadata": {
        "id": "x0Yv9BYmWp_K"
      },
      "id": "x0Yv9BYmWp_K"
    },
    {
      "cell_type": "code",
      "source": [
        "spark = SparkSession.builder.appName(\"q1-add-cols\").getOrCreate()\n",
        "\n",
        "BASE = \"/content/sample_data\"\n",
        "path_sales    = f\"{BASE}/sales.csv\"\n",
        "path_products = f\"{BASE}/products.json\"\n",
        "\n",
        "sales_df = (spark.read\n",
        "            .option(\"header\", True).option(\"inferSchema\", True)\n",
        "            .csv(path_sales))\n",
        "\n",
        "schema_prod = T.StructType([\n",
        "    T.StructField(\"product_id\", T.LongType(), True),\n",
        "    T.StructField(\"product\",    T.StringType(), True),\n",
        "    T.StructField(\"price\",      T.StringType(), True),\n",
        "])\n",
        "\n",
        "raw = spark.read.text(path_products)\n",
        "\n",
        "clean = (raw\n",
        "         .select(F.regexp_replace(F.col(\"value\"), r\"\\s*,\\s*$\", \"\").alias(\"json_line\"))\n",
        "         .filter(F.length(\"json_line\") > 0))\n",
        "\n",
        "products_df = (clean\n",
        "               .select(F.from_json(\"json_line\", schema_prod).alias(\"j\"))\n",
        "               .select(\"j.*\"))\n",
        "\n",
        "products_df = products_df.withColumn(\n",
        "    \"price_num\",\n",
        "    F.regexp_replace(F.col(\"price\").cast(\"string\"), r\"[^0-9.]\", \"\").cast(\"double\")\n",
        ")\n",
        "\n",
        "sales_df = sales_df.withColumn(\"qtde_num\", F.col(\"qtde\").cast(\"double\"))\n",
        "\n",
        "sales_enriched = (sales_df.alias(\"s\")\n",
        "    .join(products_df.select(\"product_id\", F.col(\"product\").alias(\"product_name\"), \"price_num\").alias(\"p\"),\n",
        "          on=[F.col(\"s.product_id\") == F.col(\"p.product_id\")],\n",
        "          how=\"left\")\n",
        "    .withColumn(\"final_value\", F.col(\"qtde_num\") * F.col(\"price_num\"))\n",
        "    .select(\"s.*\", \"product_name\", \"final_value\")\n",
        ")\n",
        "\n",
        "\n",
        "sales_enriched.show(20, truncate=False)\n"
      ],
      "metadata": {
        "id": "N3LUi8EWiTfX",
        "outputId": "6fd94d5d-b335-445e-abec-2575fa9a8a6b",
        "colab": {
          "base_uri": "https://localhost:8080/"
        }
      },
      "id": "N3LUi8EWiTfX",
      "execution_count": 51,
      "outputs": [
        {
          "output_type": "stream",
          "name": "stdout",
          "text": [
            "+-------+----------+----------+---------+----+--------+------------------+-----------+\n",
            "|sale_id|date      |product_id|client_id|qtde|qtde_num|product_name      |final_value|\n",
            "+-------+----------+----------+---------+----+--------+------------------+-----------+\n",
            "|1      |13/06/2022|30        |223      |2   |2.0     |Blusa Cropped     |214.5      |\n",
            "|2      |16/11/2022|23        |175      |2   |2.0     |Camiseta Estampada|218.38     |\n",
            "|3      |18/08/2022|29        |184      |2   |2.0     |Óculos de Sol     |244.54     |\n",
            "|4      |13/03/2022|31        |194      |1   |1.0     |Bolsa Tote        |105.96     |\n",
            "|5      |14/12/2022|13        |221      |2   |2.0     |Camisa Social     |161.52     |\n",
            "|6      |18/01/2022|26        |206      |1   |1.0     |Conjunto de Pijama|85.49      |\n",
            "|7      |12/10/2022|28        |123      |2   |2.0     |Camiseta Polo     |224.04     |\n",
            "|8      |15/06/2022|39        |269      |2   |2.0     |Macaquinho        |191.32     |\n",
            "|9      |15/02/2022|36        |179      |3   |3.0     |Chapéu Fedora     |301.77     |\n",
            "|10     |06/12/2022|41        |148      |1   |1.0     |Blusa de Renda    |98.9       |\n",
            "|11     |30/04/2022|34        |81       |1   |1.0     |Camisa Xadrez     |102.7      |\n",
            "|12     |05/04/2022|48        |98       |3   |3.0     |Sapatênis         |251.76     |\n",
            "|13     |24/03/2022|24        |180      |1   |1.0     |Sapatilhas        |123.33     |\n",
            "|14     |20/11/2022|1         |97       |3   |3.0     |Camisa Polo       |259.5      |\n",
            "|15     |23/03/2022|12        |270      |2   |2.0     |Casaco de Inverno |235.76     |\n",
            "|16     |28/11/2022|25        |128      |1   |1.0     |Suéter de Cashmere|82.64      |\n",
            "|17     |24/04/2022|49        |165      |2   |2.0     |Calça Cintura Alta|218.6      |\n",
            "|18     |21/10/2022|28        |18       |3   |3.0     |Camiseta Polo     |336.06     |\n",
            "|19     |01/10/2022|9         |205      |1   |1.0     |Jaqueta Jeans     |116.02     |\n",
            "|20     |10/04/2022|47        |143      |1   |1.0     |Vestido Camisola  |95.6       |\n",
            "+-------+----------+----------+---------+----+--------+------------------+-----------+\n",
            "only showing top 20 rows\n",
            "\n"
          ]
        }
      ]
    },
    {
      "cell_type": "markdown",
      "source": [
        "\n",
        "---\n",
        "\n",
        "\n",
        "Q2 .Declare um novo dataframe com o valor total gasto por cliente.\n",
        "\n",
        "\n",
        "---\n",
        "\n"
      ],
      "metadata": {
        "id": "mhsiKa9wmPio"
      },
      "id": "mhsiKa9wmPio"
    },
    {
      "cell_type": "code",
      "source": [
        "q2_df = (sales_enriched\n",
        "         .groupBy(\"client_id\")\n",
        "         .agg(F.sum(\"final_value\").alias(\"total_spent\"))\n",
        "         .orderBy(\"total_spent\")\n",
        ")\n",
        "\n",
        "q2_df.show(20, truncate=False)\n"
      ],
      "metadata": {
        "id": "L7lth7NhlpFK",
        "colab": {
          "base_uri": "https://localhost:8080/"
        },
        "outputId": "82693e7e-b728-4bcb-cc35-edc4745d1e95"
      },
      "id": "L7lth7NhlpFK",
      "execution_count": 41,
      "outputs": [
        {
          "output_type": "stream",
          "name": "stdout",
          "text": [
            "+---------+-----------+\n",
            "|client_id|total_spent|\n",
            "+---------+-----------+\n",
            "|80       |82.64      |\n",
            "|141      |82.64      |\n",
            "|76       |85.49      |\n",
            "|294      |95.66      |\n",
            "|197      |102.7      |\n",
            "|214      |105.47     |\n",
            "|77       |108.96     |\n",
            "|287      |110.27     |\n",
            "|70       |110.91     |\n",
            "|171      |112.08     |\n",
            "|278      |112.08     |\n",
            "|254      |112.11     |\n",
            "|253      |119.44     |\n",
            "|196      |123.33     |\n",
            "|208      |124.17     |\n",
            "|65       |124.43     |\n",
            "|37       |165.74     |\n",
            "|216      |183.88     |\n",
            "|135      |185.68     |\n",
            "|156      |191.32     |\n",
            "+---------+-----------+\n",
            "only showing top 20 rows\n",
            "\n"
          ]
        }
      ]
    },
    {
      "cell_type": "markdown",
      "source": [
        "\n",
        "\n",
        "---\n",
        "\n",
        "\n",
        "Q3. Declare um novo dataframe com os cinco melhores clientes contendo o nome, e-mail e o valor gasto em todo o período.\n",
        "\n",
        "\n",
        "---\n",
        "\n"
      ],
      "metadata": {
        "id": "MjlyPNnbl2U3"
      },
      "id": "MjlyPNnbl2U3"
    },
    {
      "cell_type": "code",
      "source": [
        "users_df = (spark.read\n",
        "            .option(\"header\", True).option(\"inferSchema\", True)\n",
        "            .csv(path_users))\n",
        "\n",
        "if \"q2_df\" not in globals():\n",
        "    q2_df = (sales_enriched\n",
        "             .groupBy(\"client_id\")\n",
        "             .agg(F.sum(\"final_value\").alias(\"total_spent\")))\n",
        "\n",
        "top5_clients = (q2_df\n",
        "    .join(users_df.select(\"client_id\", \"name\", \"email\"), on=\"client_id\", how=\"left\")\n",
        "    .orderBy(F.col(\"total_spent\").desc())\n",
        "    .limit(5)\n",
        "    .select(\"name\", \"email\", \"total_spent\")\n",
        ")\n",
        "\n",
        "top5_clients.show(truncate=False)\n"
      ],
      "metadata": {
        "id": "AbrcKPbNj7vc",
        "outputId": "5af0e71e-8920-4839-b8ae-62f407c71d68",
        "colab": {
          "base_uri": "https://localhost:8080/"
        }
      },
      "id": "AbrcKPbNj7vc",
      "execution_count": 57,
      "outputs": [
        {
          "output_type": "stream",
          "name": "stdout",
          "text": [
            "+-----------------+-------------------------+------------------+\n",
            "|name             |email                    |total_spent       |\n",
            "+-----------------+-------------------------+------------------+\n",
            "|Randa Friedenbach|rfriedenbach3m@paypal.com|2240.51           |\n",
            "|Giuditta Blease  |gblease6s@friendfeed.com |1902.85           |\n",
            "|Cher Higford     |chigfordn@issuu.com      |1843.35           |\n",
            "|Keen Juggings    |kjuggings5j@phoca.cz     |1795.8600000000001|\n",
            "|Alfie Pattlel    |apattlelu@discuz.net     |1755.6            |\n",
            "+-----------------+-------------------------+------------------+\n",
            "\n"
          ]
        }
      ]
    },
    {
      "cell_type": "markdown",
      "source": [
        "\n",
        "\n",
        "---\n",
        "\n",
        "\n",
        "Q4. Declare um novo dataframe com os cinco melhores clientes contendo o nome, e-mail e o valor gasto em todo o período.\n",
        "\n",
        "\n",
        "---\n",
        "\n"
      ],
      "metadata": {
        "id": "fByyggGvl2-K"
      },
      "id": "fByyggGvl2-K"
    },
    {
      "cell_type": "code",
      "source": [
        "q2_df = (sales_enriched\n",
        "         .groupBy(\"client_id\")\n",
        "         .agg(F.sum(\"final_value\").alias(\"total_spent\")))\n",
        "\n",
        "top5_clients = (q2_df\n",
        "    .join(users_df.select(\"client_id\", \"name\", \"email\"), on=\"client_id\", how=\"left\")\n",
        "    .orderBy(F.col(\"total_spent\").desc())\n",
        "    .limit(5)\n",
        ")\n",
        "\n",
        "top5_clients.show(truncate=False)\n"
      ],
      "metadata": {
        "id": "Ed5QiE4WkPLi",
        "outputId": "39cc430a-3d98-45df-a1ff-f16926f77860",
        "colab": {
          "base_uri": "https://localhost:8080/"
        }
      },
      "id": "Ed5QiE4WkPLi",
      "execution_count": 53,
      "outputs": [
        {
          "output_type": "stream",
          "name": "stdout",
          "text": [
            "+---------+------------------+-----------------+-------------------------+\n",
            "|client_id|total_spent       |name             |email                    |\n",
            "+---------+------------------+-----------------+-------------------------+\n",
            "|131      |2240.51           |Randa Friedenbach|rfriedenbach3m@paypal.com|\n",
            "|245      |1902.85           |Giuditta Blease  |gblease6s@friendfeed.com |\n",
            "|24       |1843.35           |Cher Higford     |chigfordn@issuu.com      |\n",
            "|200      |1795.8600000000001|Keen Juggings    |kjuggings5j@phoca.cz     |\n",
            "|31       |1755.6            |Alfie Pattlel    |apattlelu@discuz.net     |\n",
            "+---------+------------------+-----------------+-------------------------+\n",
            "\n"
          ]
        }
      ]
    },
    {
      "cell_type": "markdown",
      "source": [
        "\n",
        "\n",
        "---\n",
        "\n",
        "\n",
        "Q5. Calcular a média de faturamento por cliente e o desvio padrão.\n",
        "\n",
        "\n",
        "---\n",
        "\n"
      ],
      "metadata": {
        "id": "LtCYB_qyl4jS"
      },
      "id": "LtCYB_qyl4jS"
    },
    {
      "cell_type": "code",
      "source": [
        "from pyspark.sql import functions as F\n",
        "\n",
        "q5_df = (sales_enriched\n",
        "         .groupBy(\"client_id\")\n",
        "         .agg(\n",
        "             F.round(F.mean(\"final_value\"), 2).alias(\"avg_revenue\"),\n",
        "             F.round(F.stddev(\"final_value\"), 2).alias(\"stddev_revenue\")\n",
        "         )\n",
        ")\n",
        "\n",
        "q5_df.show(truncate=False)\n"
      ],
      "metadata": {
        "id": "PiCURefFkteU",
        "outputId": "fb11a8f8-ba9a-4acd-967b-ae8de0f2a580",
        "colab": {
          "base_uri": "https://localhost:8080/"
        }
      },
      "id": "PiCURefFkteU",
      "execution_count": 59,
      "outputs": [
        {
          "output_type": "stream",
          "name": "stdout",
          "text": [
            "+---------+-----------+--------------+\n",
            "|client_id|avg_revenue|stddev_revenue|\n",
            "+---------+-----------+--------------+\n",
            "|148      |102.63     |18.07         |\n",
            "|243      |140.14     |43.61         |\n",
            "|31       |292.6      |51.72         |\n",
            "|137      |208.27     |108.55        |\n",
            "|251      |279.18     |70.45         |\n",
            "|85       |344.46     |39.67         |\n",
            "|65       |124.43     |NULL          |\n",
            "|53       |291.95     |40.99         |\n",
            "|255      |197.84     |66.93         |\n",
            "|133      |277.0      |67.73         |\n",
            "|296      |157.42     |73.28         |\n",
            "|78       |180.13     |71.8          |\n",
            "|155      |243.69     |17.8          |\n",
            "|108      |179.62     |164.88        |\n",
            "|211      |236.15     |64.3          |\n",
            "|34       |170.38     |78.72         |\n",
            "|193      |124.68     |42.5          |\n",
            "|126      |147.34     |94.34         |\n",
            "|101      |196.15     |114.48        |\n",
            "|115      |201.18     |NULL          |\n",
            "+---------+-----------+--------------+\n",
            "only showing top 20 rows\n",
            "\n"
          ]
        }
      ]
    },
    {
      "cell_type": "markdown",
      "source": [
        "\n",
        "\n",
        "---\n",
        "\n",
        "\n",
        "Q6. Classificar os clientes em três categorias: silver, gold, platinum.\n",
        "\n",
        "---\n",
        "\n",
        "\n"
      ],
      "metadata": {
        "id": "AEXR6MONl6TD"
      },
      "id": "AEXR6MONl6TD"
    },
    {
      "cell_type": "code",
      "source": [
        "total_by_client = (sales_enriched\n",
        "                   .groupBy(\"client_id\")\n",
        "                   .agg(F.sum(\"final_value\").alias(\"total_spent\")))\n",
        "\n",
        "stats = total_by_client.agg(\n",
        "    F.mean(\"total_spent\").alias(\"global_avg\"),\n",
        "    F.stddev(\"total_spent\").alias(\"global_stddev\")\n",
        ").collect()[0]\n",
        "\n",
        "global_avg = stats[\"global_avg\"]\n",
        "global_stddev = stats[\"global_stddev\"]\n",
        "\n",
        "print(f\"Media global: {global_avg:.2f}\")\n",
        "print(f\"Desvio padrao: {global_stddev:.2f}\")\n",
        "\n",
        "classified_clients = (total_by_client\n",
        "    .withColumn(\n",
        "        \"category\",\n",
        "        F.when(F.col(\"total_spent\") > global_avg, \"platinum\")\n",
        "         .when(\n",
        "             (F.col(\"total_spent\") >= global_avg - global_stddev) &\n",
        "             (F.col(\"total_spent\") <= global_avg), \"gold\"\n",
        "         )\n",
        "         .otherwise(\"silver\")\n",
        "    )\n",
        ")\n",
        "\n",
        "classified_clients.show(truncate=False)\n"
      ],
      "metadata": {
        "id": "G5CK3-WplLmL",
        "outputId": "e157e4ae-5a94-4e41-fd74-f822457e816f",
        "colab": {
          "base_uri": "https://localhost:8080/"
        }
      },
      "id": "G5CK3-WplLmL",
      "execution_count": 50,
      "outputs": [
        {
          "output_type": "stream",
          "name": "stdout",
          "text": [
            "Media global: 707.26\n",
            "Desvio padrao: 414.34\n",
            "+---------+------------------+--------+\n",
            "|client_id|total_spent       |category|\n",
            "+---------+------------------+--------+\n",
            "|148      |307.88            |gold    |\n",
            "|243      |280.28            |silver  |\n",
            "|31       |1755.6            |platinum|\n",
            "|137      |624.8199999999999 |gold    |\n",
            "|251      |837.55            |platinum|\n",
            "|85       |688.92            |gold    |\n",
            "|65       |124.43            |silver  |\n",
            "|53       |1751.6699999999998|platinum|\n",
            "|255      |791.3599999999999 |platinum|\n",
            "|133      |1107.99           |platinum|\n",
            "|296      |787.0799999999999 |platinum|\n",
            "|78       |1260.94           |platinum|\n",
            "|155      |974.77            |platinum|\n",
            "|108      |538.87            |gold    |\n",
            "|211      |708.44            |platinum|\n",
            "|34       |851.9             |platinum|\n",
            "|193      |374.04            |gold    |\n",
            "|126      |884.0600000000001 |platinum|\n",
            "|101      |1176.8899999999999|platinum|\n",
            "|115      |201.18            |silver  |\n",
            "+---------+------------------+--------+\n",
            "only showing top 20 rows\n",
            "\n"
          ]
        }
      ]
    },
    {
      "cell_type": "markdown",
      "source": [
        "\n",
        "\n",
        "---\n",
        "\n",
        "\n",
        "Q7. Salvar um arquivo parquet com os três produtos mais consumidos de cada categoria do cliente.\n",
        "\n",
        "\n",
        "---\n",
        "\n"
      ],
      "metadata": {
        "id": "S_S-LDSLl1N4"
      },
      "id": "S_S-LDSLl1N4"
    },
    {
      "cell_type": "code",
      "source": [
        "sales_with_cat = (sales_enriched\n",
        "    .join(classified_clients.select(\"client_id\", \"category\"), on=\"client_id\", how=\"left\")\n",
        ")\n",
        "\n",
        "prod_by_cat = (sales_with_cat\n",
        "    .groupBy(\"category\", \"product_name\")\n",
        "    .agg(F.sum(\"qtde\").alias(\"total_qty\"))\n",
        ")\n",
        "\n",
        "window_cat = Window.partitionBy(\"category\").orderBy(F.col(\"total_qty\").desc())\n",
        "\n",
        "ranked_products = prod_by_cat.withColumn(\"rank\", F.row_number().over(window_cat))\n",
        "\n",
        "top3_products_per_cat = ranked_products.filter(F.col(\"rank\") <= 3)\n",
        "\n",
        "output_path = \"/content/sample_data/top3_products_per_category.parquet\"\n",
        "top3_products_per_cat.write.mode(\"overwrite\").parquet(output_path)\n",
        "\n",
        "print(f\"Arquivo salvo em: {output_path}\")\n",
        "\n",
        "top3_products_per_cat.show(truncate=False)\n"
      ],
      "metadata": {
        "id": "BeDUiSK7lQaQ",
        "outputId": "42e1b870-5c5f-4ed1-93ba-87e4c096e171",
        "colab": {
          "base_uri": "https://localhost:8080/"
        }
      },
      "id": "BeDUiSK7lQaQ",
      "execution_count": 49,
      "outputs": [
        {
          "output_type": "stream",
          "name": "stdout",
          "text": [
            "Arquivo salvo em: /content/sample_data/top3_products_per_category.parquet\n",
            "+--------+---------------------+---------+----+\n",
            "|category|product_name         |total_qty|rank|\n",
            "+--------+---------------------+---------+----+\n",
            "|gold    |Casaco de Inverno    |26       |1   |\n",
            "|gold    |Cinto de Couro       |26       |2   |\n",
            "|gold    |Camisa Xadrez        |23       |3   |\n",
            "|platinum|Blusa de Manga Longa |57       |1   |\n",
            "|platinum|Mochila de Lona      |52       |2   |\n",
            "|platinum|Calça Cintura Alta   |45       |3   |\n",
            "|silver  |Macaquinho           |7        |1   |\n",
            "|silver  |Sapatos de Salto Alto|6        |2   |\n",
            "|silver  |Vestido Midi         |5        |3   |\n",
            "+--------+---------------------+---------+----+\n",
            "\n"
          ]
        }
      ]
    },
    {
      "cell_type": "code",
      "source": [
        "### EXECUTE ESTA CÉLULA APENAS AO FINAL DO TESTE ###\n",
        "\n",
        "%history -t /content/historico_exec.txt\n",
        "from google.colab import files\n",
        "files.download('/content/historico_exec.txt')"
      ],
      "metadata": {
        "id": "iBXrZHR2lFBN",
        "colab": {
          "base_uri": "https://localhost:8080/",
          "height": 17
        },
        "outputId": "998a231b-e59c-4a6c-f2f9-6784819d1b84"
      },
      "id": "iBXrZHR2lFBN",
      "execution_count": 64,
      "outputs": [
        {
          "output_type": "display_data",
          "data": {
            "text/plain": [
              "<IPython.core.display.Javascript object>"
            ],
            "application/javascript": [
              "\n",
              "    async function download(id, filename, size) {\n",
              "      if (!google.colab.kernel.accessAllowed) {\n",
              "        return;\n",
              "      }\n",
              "      const div = document.createElement('div');\n",
              "      const label = document.createElement('label');\n",
              "      label.textContent = `Downloading \"${filename}\": `;\n",
              "      div.appendChild(label);\n",
              "      const progress = document.createElement('progress');\n",
              "      progress.max = size;\n",
              "      div.appendChild(progress);\n",
              "      document.body.appendChild(div);\n",
              "\n",
              "      const buffers = [];\n",
              "      let downloaded = 0;\n",
              "\n",
              "      const channel = await google.colab.kernel.comms.open(id);\n",
              "      // Send a message to notify the kernel that we're ready.\n",
              "      channel.send({})\n",
              "\n",
              "      for await (const message of channel.messages) {\n",
              "        // Send a message to notify the kernel that we're ready.\n",
              "        channel.send({})\n",
              "        if (message.buffers) {\n",
              "          for (const buffer of message.buffers) {\n",
              "            buffers.push(buffer);\n",
              "            downloaded += buffer.byteLength;\n",
              "            progress.value = downloaded;\n",
              "          }\n",
              "        }\n",
              "      }\n",
              "      const blob = new Blob(buffers, {type: 'application/binary'});\n",
              "      const a = document.createElement('a');\n",
              "      a.href = window.URL.createObjectURL(blob);\n",
              "      a.download = filename;\n",
              "      div.appendChild(a);\n",
              "      a.click();\n",
              "      div.remove();\n",
              "    }\n",
              "  "
            ]
          },
          "metadata": {}
        },
        {
          "output_type": "display_data",
          "data": {
            "text/plain": [
              "<IPython.core.display.Javascript object>"
            ],
            "application/javascript": [
              "download(\"download_b7a5171f-1916-4e0b-9bad-016441cd4906\", \"historico_exec.txt\", 50047)"
            ]
          },
          "metadata": {}
        }
      ]
    }
  ],
  "metadata": {
    "kernelspec": {
      "display_name": "Python 3 (ipykernel)",
      "language": "python",
      "name": "python3"
    },
    "language_info": {
      "codemirror_mode": {
        "name": "ipython",
        "version": 3
      },
      "file_extension": ".py",
      "mimetype": "text/x-python",
      "name": "python",
      "nbconvert_exporter": "python",
      "pygments_lexer": "ipython3",
      "version": "3.11.5"
    },
    "colab": {
      "provenance": [],
      "include_colab_link": true
    }
  },
  "nbformat": 4,
  "nbformat_minor": 5
}